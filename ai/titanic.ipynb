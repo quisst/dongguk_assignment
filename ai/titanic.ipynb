{
 "cells": [
  {
   "cell_type": "code",
   "execution_count": 7,
   "metadata": {},
   "outputs": [],
   "source": [
    "import pandas as pd\n",
    "import shutil\n",
    "\n",
    "# Create a copy of test.csv\n",
    "shutil.copyfile('test.csv', 'test_copy.csv')\n",
    "\n",
    "# Read the copied file\n",
    "test_df = pd.read_csv('test_copy.csv')\n",
    "\n",
    "# Create Survived column with default value of 0\n",
    "test_df['Survived'] = 0\n",
    "\n",
    "# Assign 1 to Survived column if Age is 10 or below\n",
    "test_df.loc[test_df['Age'] <= 10, 'Survived'] = 1\n",
    "\n",
    "# Create submission.csv with PassengerId and Survived columns\n",
    "submission_df = test_df[['PassengerId', 'Survived']]\n",
    "submission_df.to_csv('submission.csv', index=False)"
   ]
  },
  {
   "cell_type": "code",
   "execution_count": 11,
   "metadata": {},
   "outputs": [],
   "source": [
    "import pandas as pd\n",
    "import shutil\n",
    "\n",
    "# Create a copy of test.csv\n",
    "shutil.copyfile('test.csv', 'test_copy.csv')\n",
    "\n",
    "# Read the copied file\n",
    "test_df = pd.read_csv('test_copy.csv')\n",
    "\n",
    "# Create Survived column with default value of 0\n",
    "test_df['Survived'] = 0\n",
    "\n",
    "# Assign 1 to Survived column if Sex is 'female'\n",
    "test_df.loc[test_df['Sex'] == 'female', 'Survived'] = 1\n",
    "\n",
    "# Create submission.csv with PassengerId and Survived columns\n",
    "submission_df = test_df[['PassengerId', 'Survived']]\n",
    "submission_df.to_csv('submission01.csv', index=False)"
   ]
  },
  {
   "cell_type": "code",
   "execution_count": 13,
   "metadata": {},
   "outputs": [],
   "source": [
    "import pandas as pd\n",
    "import shutil\n",
    "\n",
    "# Create a copy of test.csv\n",
    "shutil.copyfile('test.csv', 'test_copy.csv')\n",
    "\n",
    "# Read the copied file\n",
    "test_df = pd.read_csv('test_copy.csv')\n",
    "\n",
    "# Create Survived column with default value of 1\n",
    "test_df['Survived'] = 1\n",
    "\n",
    "# Assign 0 to Survived column if Pclass is 1\n",
    "test_df.loc[test_df['Pclass'] == 1, 'Survived'] = 0\n",
    "\n",
    "# Create submission.csv with PassengerId and Survived columns\n",
    "submission_df = test_df[['PassengerId', 'Survived']]\n",
    "submission_df.to_csv('submission03.csv', index=False)\n"
   ]
  },
  {
   "cell_type": "code",
   "execution_count": null,
   "metadata": {},
   "outputs": [],
   "source": []
  }
 ],
 "metadata": {
  "kernelspec": {
   "display_name": "base",
   "language": "python",
   "name": "python3"
  },
  "language_info": {
   "codemirror_mode": {
    "name": "ipython",
    "version": 3
   },
   "file_extension": ".py",
   "mimetype": "text/x-python",
   "name": "python",
   "nbconvert_exporter": "python",
   "pygments_lexer": "ipython3",
   "version": "3.9.13"
  },
  "orig_nbformat": 4,
  "vscode": {
   "interpreter": {
    "hash": "57468ee44aa95dd4e25b20d5089bdc40d0474ae5901f7acf4c61317f32db0a15"
   }
  }
 },
 "nbformat": 4,
 "nbformat_minor": 2
}
